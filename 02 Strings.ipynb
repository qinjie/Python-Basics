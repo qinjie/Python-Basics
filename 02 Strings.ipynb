{
 "cells": [
  {
   "cell_type": "markdown",
   "metadata": {},
   "source": [
    "# Strings\n",
    "\n",
    "#### Outlines\n",
    "\n",
    "* Basic String Operations\n",
    "* String Formatting\n",
    "* Others"
   ]
  },
  {
   "cell_type": "markdown",
   "metadata": {},
   "source": [
    "## 1. Basic String Operators\n",
    "\n",
    "### Length\n",
    "\n",
    "The `len()` function returns length of a string.\n",
    "\n",
    "***Type-It-Yourself:***\n",
    "```python\n",
    "x = \"Hello world!\"\n",
    "print(len(x))\n",
    "```"
   ]
  },
  {
   "cell_type": "code",
   "execution_count": 1,
   "metadata": {},
   "outputs": [
    {
     "name": "stdout",
     "output_type": "stream",
     "text": [
      "12\n"
     ]
    }
   ],
   "source": [
    "x = \"Hello world!\"\n",
    "print(len(x))"
   ]
  },
  {
   "cell_type": "markdown",
   "metadata": {},
   "source": [
    "### Index of a Character\n",
    "\n",
    "The `index()` function returns the index of a character in a string.\n",
    "* Index value starts from 0\n",
    "* It returns 1st occurence of the character\n",
    "\n",
    "***Type-It-Yourself:***\n",
    "```python\n",
    "x = \"Hello world\"\n",
    "print(x.index('e'), x.index('l'))\n",
    "```"
   ]
  },
  {
   "cell_type": "code",
   "execution_count": 2,
   "metadata": {},
   "outputs": [
    {
     "name": "stdout",
     "output_type": "stream",
     "text": [
      "1 2\n"
     ]
    }
   ],
   "source": [
    "x = \"Hello world\"\n",
    "print(x.index('e'), x.index('l'))"
   ]
  },
  {
   "cell_type": "markdown",
   "metadata": {},
   "source": [
    "Note that the search is **case-senstive**.\n",
    "* A not-found will result in an exception\n",
    "\n",
    "***Type-It-Yourself:***\n",
    "```python\n",
    "x = \"Hello world\"\n",
    "print(x.index('W'))\n",
    "```"
   ]
  },
  {
   "cell_type": "code",
   "execution_count": 3,
   "metadata": {
    "scrolled": true
   },
   "outputs": [
    {
     "ename": "ValueError",
     "evalue": "substring not found",
     "output_type": "error",
     "traceback": [
      "\u001b[1;31m---------------------------------------------------------------------------\u001b[0m",
      "\u001b[1;31mValueError\u001b[0m                                Traceback (most recent call last)",
      "\u001b[1;32m<ipython-input-3-cc2f6168a233>\u001b[0m in \u001b[0;36m<module>\u001b[1;34m\u001b[0m\n\u001b[0;32m      1\u001b[0m \u001b[0mx\u001b[0m \u001b[1;33m=\u001b[0m \u001b[1;34m\"Hello world\"\u001b[0m\u001b[1;33m\u001b[0m\u001b[1;33m\u001b[0m\u001b[0m\n\u001b[1;32m----> 2\u001b[1;33m \u001b[0mprint\u001b[0m\u001b[1;33m(\u001b[0m\u001b[0mx\u001b[0m\u001b[1;33m.\u001b[0m\u001b[0mindex\u001b[0m\u001b[1;33m(\u001b[0m\u001b[1;34m'W'\u001b[0m\u001b[1;33m)\u001b[0m\u001b[1;33m)\u001b[0m\u001b[1;33m\u001b[0m\u001b[1;33m\u001b[0m\u001b[0m\n\u001b[0m",
      "\u001b[1;31mValueError\u001b[0m: substring not found"
     ]
    }
   ],
   "source": [
    "x = \"Hello world\"\n",
    "print(x.index('W'))"
   ]
  },
  {
   "cell_type": "markdown",
   "metadata": {},
   "source": [
    "### Count Occurence\n",
    "\n",
    "The `count()` function can be used to count occurence of a character.\n",
    "\n",
    "***Type-It-Yourself:***\n",
    "```python\n",
    "x = \"Hello world\"\n",
    "print(x.count('o'))\n",
    "```"
   ]
  },
  {
   "cell_type": "code",
   "execution_count": 5,
   "metadata": {},
   "outputs": [
    {
     "name": "stdout",
     "output_type": "stream",
     "text": [
      "1\n"
     ]
    }
   ],
   "source": [
    "x = \"Hello world\"\n",
    "print(x.count('world'))"
   ]
  },
  {
   "cell_type": "markdown",
   "metadata": {},
   "source": [
    "### Substring\n",
    "\n",
    "A substring can be obtained using index slicing.\n",
    "* Index slicing is done by specifying starting and ending index\n",
    "* Index starts from 0\n",
    "* Ending index is **not included**\n",
    "\n",
    "***Type-It-Yourself:***\n",
    "```python\n",
    "x = \"Hello world!\"\n",
    "print(x[1:4])\n",
    "```"
   ]
  },
  {
   "cell_type": "code",
   "execution_count": 7,
   "metadata": {},
   "outputs": [
    {
     "name": "stdout",
     "output_type": "stream",
     "text": [
      "ell\n"
     ]
    }
   ],
   "source": [
    "x = \"Hello world!\"\n",
    "#    0123456\n",
    "print(x[1:4])"
   ]
  },
  {
   "cell_type": "markdown",
   "metadata": {},
   "source": [
    "More on indexing:\n",
    "* Without specifying starting index, it starts from 0.\n",
    "* Without specifying ending index, it ends till end of string.\n",
    "\n",
    "***Type-It-Yourself:***\n",
    "```python\n",
    "x = \"Hello world!\"\n",
    "print(x[:4])\n",
    "print(x[6:])\n",
    "```"
   ]
  },
  {
   "cell_type": "code",
   "execution_count": 9,
   "metadata": {},
   "outputs": [
    {
     "name": "stdout",
     "output_type": "stream",
     "text": [
      "Hell\n",
      "world!\n",
      "Hello world!\n"
     ]
    }
   ],
   "source": [
    "x = \"Hello world!\"\n",
    "#    0123456\n",
    "print(x[:4])\n",
    "print(x[6:])\n",
    "print(x[:])"
   ]
  },
  {
   "cell_type": "markdown",
   "metadata": {},
   "source": [
    "A `step` value can be specified to skip some characters. \n",
    "\n",
    "***Type-It-Yourself:***\n",
    "```python\n",
    "x = \"Hello world!\"\n",
    "print(x[::2])\n",
    "```"
   ]
  },
  {
   "cell_type": "code",
   "execution_count": 12,
   "metadata": {},
   "outputs": [
    {
     "name": "stdout",
     "output_type": "stream",
     "text": [
      "Hlowrd\n",
      "!dlrow olleH\n",
      "Hello wor\n"
     ]
    }
   ],
   "source": [
    "x = \"Hello world!\"\n",
    "print(x[::2])\n",
    "print(x[::-1])\n",
    "\n",
    "print(x[:-3])"
   ]
  },
  {
   "cell_type": "markdown",
   "metadata": {},
   "source": [
    "The `step` value can be negative, which reverse the string.\n",
    "\n",
    "***Type-It-Yourself:***\n",
    "```python\n",
    "x = \"Hello world!\"\n",
    "print(x[::-1])\n",
    "```"
   ]
  },
  {
   "cell_type": "code",
   "execution_count": null,
   "metadata": {},
   "outputs": [],
   "source": []
  },
  {
   "cell_type": "markdown",
   "metadata": {},
   "source": [
    "### Change Case\n",
    "\n",
    "Change case of string using its built-in function `upper()` and `lower()`.\n",
    "\n",
    "***Type-It-Yourself:***\n",
    "```python\n",
    "x = \"Hello world!\"\n",
    "print(x.upper())\n",
    "print(x.lower())\n",
    "```"
   ]
  },
  {
   "cell_type": "code",
   "execution_count": 13,
   "metadata": {},
   "outputs": [
    {
     "name": "stdout",
     "output_type": "stream",
     "text": [
      "HELLO WORLD!\n",
      "hello world!\n"
     ]
    }
   ],
   "source": [
    "x = \"Hello world!\"\n",
    "print(x.upper())\n",
    "print(x.lower())"
   ]
  },
  {
   "cell_type": "markdown",
   "metadata": {},
   "source": [
    "### Starts/Ends With\n",
    "\n",
    "To check if a string starts or ends with a substring, you can use `startswith()` and `endswith()` functions.\n",
    "\n",
    "***Type-It-Yourself:***\n",
    "```python\n",
    "x = \"Hello world!\"\n",
    "print(x.startswith('Hell'))\n",
    "print(x.endswith('Heaven'))\n",
    "```"
   ]
  },
  {
   "cell_type": "code",
   "execution_count": 14,
   "metadata": {},
   "outputs": [
    {
     "name": "stdout",
     "output_type": "stream",
     "text": [
      "True\n",
      "False\n"
     ]
    }
   ],
   "source": [
    "x = \"Hello world!\"\n",
    "print(x.startswith('Hell'))\n",
    "print(x.endswith('Heaven'))"
   ]
  },
  {
   "cell_type": "markdown",
   "metadata": {},
   "source": [
    "### Split Strings\n",
    "\n",
    "A string can be split into substrings using `split()` function.\n",
    "* Without specifying delimiter, it splits by white space\n",
    "\n",
    "***Type-It-Yourself:***\n",
    "```python\n",
    "x = \"Hello world!\"\n",
    "print(x.split())\n",
    "print(x.split(' '))\n",
    "print(x.split('o'))\n",
    "```"
   ]
  },
  {
   "cell_type": "code",
   "execution_count": 16,
   "metadata": {},
   "outputs": [
    {
     "name": "stdout",
     "output_type": "stream",
     "text": [
      "['Hello', 'world!', 'Good', 'day!']\n",
      "['Hello', 'world!\\tGood', 'day!']\n",
      "['Hell', ' w', 'rld!\\tG', '', 'd day!']\n"
     ]
    }
   ],
   "source": [
    "x = \"Hello world!\\tGood day!\"\n",
    "print(x.split())\n",
    "print(x.split(' '))\n",
    "print(x.split('o'))"
   ]
  },
  {
   "cell_type": "markdown",
   "metadata": {},
   "source": [
    "## 2. String Formatting\n",
    "\n",
    "### Function `format()`\n",
    "The `format()` function of a `str` object can be used to format a string with one or more parameters.\n",
    "\n",
    "***Type-It-Yourself:***\n",
    "```python\n",
    "x = '{} {}'.format('Hello', 'World')\n",
    "print(x)\n",
    "```"
   ]
  },
  {
   "cell_type": "code",
   "execution_count": 17,
   "metadata": {},
   "outputs": [
    {
     "name": "stdout",
     "output_type": "stream",
     "text": [
      "Hello World\n"
     ]
    }
   ],
   "source": [
    "x = '{} {}'.format('Hello', 'World')\n",
    "print(x)"
   ]
  },
  {
   "cell_type": "markdown",
   "metadata": {},
   "source": [
    "You can specified index of parameters in the place holders. \n",
    "* The index values can be in any order\n",
    "\n",
    "***Type-It-Yourself:***\n",
    "```python\n",
    "x = '{1} {0}'.format('Hello', 'World')\n",
    "print(x)\n",
    "```"
   ]
  },
  {
   "cell_type": "code",
   "execution_count": 19,
   "metadata": {},
   "outputs": [
    {
     "name": "stdout",
     "output_type": "stream",
     "text": [
      "Hello World Hello\n"
     ]
    }
   ],
   "source": [
    "x = '{0} {1} {0}'.format('Hello', 'World')\n",
    "print(x)"
   ]
  },
  {
   "cell_type": "markdown",
   "metadata": {},
   "source": [
    "#### Conversion Options\n",
    "\n",
    "Use the format code syntax `{field_name:conversion}`, where field_name specifies the index number of the argument to the str.format() method, and conversion refers to the conversion code of the data type.\n",
    "\n",
    "***Type-It-Yourself:***\n",
    "```python\n",
    "# For 2 decimal places \n",
    "print (\"{:.2f}\".format(3.1415)) \n",
    "# Convert an integer to its binary or octal \n",
    "print(\"The {0} of 100 is {1:b}\".format(\"binary\", 100)) \n",
    "print(\"The {0} of 100 is {1:o}\".format(\"octal\", 100)) \n",
    "```"
   ]
  },
  {
   "cell_type": "code",
   "execution_count": 29,
   "metadata": {},
   "outputs": [
    {
     "name": "stdout",
     "output_type": "stream",
     "text": [
      "PI=3.142     |\n",
      "PI=  3.142   |\n",
      "PI=     3.142|\n",
      "The binary of 100 is 1100100\n",
      "The octal of 100 is 144\n"
     ]
    }
   ],
   "source": [
    "print (\"PI={0:<10.3f}|\".format(3.1415))\n",
    "print (\"PI={0:^10.3f}|\".format(3.1415)) \n",
    "print (\"PI={0:>10.3f}|\".format(3.1415)) \n",
    "\n",
    "print(\"The {0} of 100 is {1:b}\".format(\"binary\", 100)) \n",
    "print(\"The {0} of 100 is {1:o}\".format(\"octal\", 100)) "
   ]
  },
  {
   "cell_type": "markdown",
   "metadata": {},
   "source": [
    "### Spaces and Alignment\n",
    "\n",
    "You can specify the space (in number of characters) to display a value. \n",
    "\n",
    "You can also specify alignment of the value.\n",
    "* `<`: left-align text\n",
    "* `^`: center text\n",
    "* `>`: right-align text\n",
    "\n",
    "\n",
    "***Type-It-Yourself:***\n",
    "```python\n",
    "print(\"Value = {:<10}\".format(123)) \n",
    "print(\"Value = {:10}\".format(789))\n",
    "```"
   ]
  },
  {
   "cell_type": "code",
   "execution_count": 28,
   "metadata": {
    "scrolled": true
   },
   "outputs": [
    {
     "name": "stdout",
     "output_type": "stream",
     "text": [
      "Value = 123       \n",
      "Value =        789\n"
     ]
    }
   ],
   "source": [
    "print(\"Value = {:<10}\".format(123)) \n",
    "print(\"Value = {:10}\".format(789))"
   ]
  },
  {
   "cell_type": "markdown",
   "metadata": {},
   "source": [
    "### String Interpolation / f-Strings\n",
    "\n",
    "Python 3.6 let you format strings by embedding Python expressions inside string constants.\n",
    "\n",
    "***Type-It-Yourself:***\n",
    "```python\n",
    "x = 'World'\n",
    "y = f'Hello {x}'\n",
    "print(y)\n",
    "```"
   ]
  },
  {
   "cell_type": "code",
   "execution_count": 33,
   "metadata": {},
   "outputs": [
    {
     "name": "stdout",
     "output_type": "stream",
     "text": [
      "Hello WORLD\n"
     ]
    }
   ],
   "source": [
    "x = 'World'\n",
    "y = f'Hello {x.upper()}'\n",
    "print(y)"
   ]
  },
  {
   "cell_type": "markdown",
   "metadata": {},
   "source": [
    "## 3. Others"
   ]
  },
  {
   "cell_type": "markdown",
   "metadata": {},
   "source": [
    "### Accepting User Inputs\n",
    "\n",
    "**input( )** accepts input and stores it as a string.\n",
    "\n",
    "***Type-It-Yourself:***\n",
    "```python\n",
    "a = input(\"Type something: \\t\")\n",
    "print(a, type(a))\n",
    "```"
   ]
  },
  {
   "cell_type": "code",
   "execution_count": 37,
   "metadata": {},
   "outputs": [
    {
     "name": "stdout",
     "output_type": "stream",
     "text": [
      "Enter an integer: \t1234\n",
      "1234 <class 'str'>\n",
      "1234 <class 'int'>\n"
     ]
    }
   ],
   "source": [
    "a = input(\"Enter an integer: \\t\")\n",
    "print(a, type(a))\n",
    "b = int(a)\n",
    "print(b, type(b))"
   ]
  },
  {
   "cell_type": "code",
   "execution_count": 41,
   "metadata": {},
   "outputs": [
    {
     "data": {
      "text/plain": [
       "'Hello World'"
      ]
     },
     "execution_count": 41,
     "metadata": {},
     "output_type": "execute_result"
    }
   ],
   "source": [
    "'Hello {}'.format('World')\n",
    "x = 'Hello {}'\n",
    "x.format('World')"
   ]
  }
 ],
 "metadata": {
  "kernelspec": {
   "display_name": "Python 3",
   "language": "python",
   "name": "python3"
  },
  "language_info": {
   "codemirror_mode": {
    "name": "ipython",
    "version": 3
   },
   "file_extension": ".py",
   "mimetype": "text/x-python",
   "name": "python",
   "nbconvert_exporter": "python",
   "pygments_lexer": "ipython3",
   "version": "3.7.3"
  }
 },
 "nbformat": 4,
 "nbformat_minor": 1
}

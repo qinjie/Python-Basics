{
 "cells": [
  {
   "cell_type": "markdown",
   "metadata": {},
   "source": [
    "# Strings\n",
    "\n",
    "#### Outlines\n",
    "\n",
    "* Basic String Operations\n",
    "* String Formatting\n",
    "* Others"
   ]
  },
  {
   "cell_type": "markdown",
   "metadata": {},
   "source": [
    "## 1. Basic String Operators\n",
    "\n",
    "### Length\n",
    "\n",
    "The `len()` function returns length of a string.\n",
    "\n",
    "***Type-It-Yourself:***\n",
    "```python\n",
    "x = \"Hello world!\"\n",
    "print(len(x))\n",
    "```"
   ]
  },
  {
   "cell_type": "code",
   "execution_count": null,
   "metadata": {},
   "outputs": [],
   "source": []
  },
  {
   "cell_type": "markdown",
   "metadata": {},
   "source": [
    "### Index of a Character\n",
    "\n",
    "The `index()` function returns the index of a character in a string.\n",
    "* Index value starts from 0\n",
    "* It returns 1st occurence of the character\n",
    "\n",
    "***Type-It-Yourself:***\n",
    "```python\n",
    "x = \"Hello world\"\n",
    "print(x.index('e'), x.index('l'))\n",
    "```"
   ]
  },
  {
   "cell_type": "code",
   "execution_count": null,
   "metadata": {},
   "outputs": [],
   "source": []
  },
  {
   "cell_type": "markdown",
   "metadata": {},
   "source": [
    "Note that the search is **case-senstive**.\n",
    "* A not-found will result in an exception\n",
    "\n",
    "***Type-It-Yourself:***\n",
    "```python\n",
    "x = \"Hello world\"\n",
    "print(x.index('W'))\n",
    "```"
   ]
  },
  {
   "cell_type": "code",
   "execution_count": null,
   "metadata": {
    "scrolled": true
   },
   "outputs": [],
   "source": []
  },
  {
   "cell_type": "markdown",
   "metadata": {},
   "source": [
    "### Count Occurence\n",
    "\n",
    "The `count()` function can be used to count occurence of a character.\n",
    "\n",
    "***Type-It-Yourself:***\n",
    "```python\n",
    "x = \"Hello world\"\n",
    "print(x.count('o'))\n",
    "```"
   ]
  },
  {
   "cell_type": "code",
   "execution_count": null,
   "metadata": {},
   "outputs": [],
   "source": []
  },
  {
   "cell_type": "markdown",
   "metadata": {},
   "source": [
    "### Substring\n",
    "\n",
    "A substring can be obtained using index slicing.\n",
    "* Index slicing is done by specifying starting and ending index\n",
    "* Index starts from 0\n",
    "* Ending index is **not included**\n",
    "\n",
    "***Type-It-Yourself:***\n",
    "```python\n",
    "x = \"Hello world!\"\n",
    "print(x[1:4])\n",
    "```"
   ]
  },
  {
   "cell_type": "code",
   "execution_count": null,
   "metadata": {},
   "outputs": [],
   "source": []
  },
  {
   "cell_type": "markdown",
   "metadata": {},
   "source": [
    "More on indexing:\n",
    "* Without specifying starting index, it starts from 0.\n",
    "* Without specifying ending index, it ends till end of string.\n",
    "\n",
    "***Type-It-Yourself:***\n",
    "```python\n",
    "x = \"Hello world!\"\n",
    "print(x[:4])\n",
    "print(x[6:])\n",
    "```"
   ]
  },
  {
   "cell_type": "code",
   "execution_count": null,
   "metadata": {},
   "outputs": [],
   "source": []
  },
  {
   "cell_type": "markdown",
   "metadata": {},
   "source": [
    "A `step` value can be specified to skip some characters. \n",
    "\n",
    "***Type-It-Yourself:***\n",
    "```python\n",
    "x = \"Hello world!\"\n",
    "print(x[::2])\n",
    "```"
   ]
  },
  {
   "cell_type": "code",
   "execution_count": null,
   "metadata": {},
   "outputs": [],
   "source": []
  },
  {
   "cell_type": "markdown",
   "metadata": {},
   "source": [
    "The `step` value can be negative, which reverse the string.\n",
    "\n",
    "***Type-It-Yourself:***\n",
    "```python\n",
    "x = \"Hello world!\"\n",
    "print(x[::-1])\n",
    "```"
   ]
  },
  {
   "cell_type": "code",
   "execution_count": null,
   "metadata": {},
   "outputs": [],
   "source": []
  },
  {
   "cell_type": "markdown",
   "metadata": {},
   "source": [
    "### Change Case\n",
    "\n",
    "Change case of string using its built-in function `upper()` and `lower()`.\n",
    "\n",
    "***Type-It-Yourself:***\n",
    "```python\n",
    "x = \"Hello world!\"\n",
    "print(x.upper())\n",
    "print(x.lower())\n",
    "```"
   ]
  },
  {
   "cell_type": "code",
   "execution_count": null,
   "metadata": {},
   "outputs": [],
   "source": []
  },
  {
   "cell_type": "markdown",
   "metadata": {},
   "source": [
    "### Starts/Ends With\n",
    "\n",
    "To check if a string starts or ends with a substring, you can use `startswith()` and `endswith()` functions.\n",
    "\n",
    "***Type-It-Yourself:***\n",
    "```python\n",
    "x = \"Hello world!\"\n",
    "print(x.startswith('Hell'))\n",
    "print(x.endswith('Heaven'))\n",
    "```"
   ]
  },
  {
   "cell_type": "code",
   "execution_count": null,
   "metadata": {},
   "outputs": [],
   "source": []
  },
  {
   "cell_type": "markdown",
   "metadata": {},
   "source": [
    "### Split Strings\n",
    "\n",
    "A string can be split into substrings using `split()` function.\n",
    "* Without specifying delimiter, it splits by white space\n",
    "\n",
    "***Type-It-Yourself:***\n",
    "```python\n",
    "x = \"Hello world!\"\n",
    "print(x.split())\n",
    "print(x.split(' '))\n",
    "print(x.split('o'))\n",
    "```"
   ]
  },
  {
   "cell_type": "code",
   "execution_count": null,
   "metadata": {},
   "outputs": [],
   "source": []
  },
  {
   "cell_type": "markdown",
   "metadata": {},
   "source": [
    "## 2. String Formatting\n",
    "\n",
    "### Function `format()`\n",
    "The `format()` function of a `str` object can be used to format a string with one or more parameters.\n",
    "\n",
    "***Type-It-Yourself:***\n",
    "```python\n",
    "x = '{} {}'.format('Hello', 'World')\n",
    "print(x)\n",
    "```"
   ]
  },
  {
   "cell_type": "code",
   "execution_count": null,
   "metadata": {},
   "outputs": [],
   "source": []
  },
  {
   "cell_type": "markdown",
   "metadata": {},
   "source": [
    "You can specified index of parameters in the place holders. \n",
    "* The index values can be in any order\n",
    "\n",
    "***Type-It-Yourself:***\n",
    "```python\n",
    "x = '{1} {0}'.format('Hello', 'World')\n",
    "print(x)\n",
    "```"
   ]
  },
  {
   "cell_type": "code",
   "execution_count": null,
   "metadata": {},
   "outputs": [],
   "source": []
  },
  {
   "cell_type": "markdown",
   "metadata": {},
   "source": [
    "#### Conversion Options\n",
    "\n",
    "Use the format code syntax `{field_name:conversion}`, where field_name specifies the index number of the argument to the str.format() method, and conversion refers to the conversion code of the data type.\n",
    "\n",
    "***Type-It-Yourself:***\n",
    "```python\n",
    "# For 2 decimal places \n",
    "print (\"{:.2f}\".format(3.1415)) \n",
    "# Convert an integer to its binary or octal \n",
    "print(\"The {0} of 100 is {1:b}\".format(\"binary\", 100)) \n",
    "print(\"The {0} of 100 is {1:o}\".format(\"octal\", 100)) \n",
    "```"
   ]
  },
  {
   "cell_type": "code",
   "execution_count": null,
   "metadata": {},
   "outputs": [],
   "source": []
  },
  {
   "cell_type": "markdown",
   "metadata": {},
   "source": [
    "### Spaces and Alignment\n",
    "\n",
    "You can specify the space (in number of characters) to display a value. \n",
    "\n",
    "You can also specify alignment of the value.\n",
    "* `<`: left-align text\n",
    "* `^`: center text\n",
    "* `>`: right-align text\n",
    "\n",
    "\n",
    "***Type-It-Yourself:***\n",
    "```python\n",
    "print(\"Value = {:<10}\".format(123)) \n",
    "print(\"Value = {:10}\".format(789))\n",
    "```"
   ]
  },
  {
   "cell_type": "code",
   "execution_count": null,
   "metadata": {
    "scrolled": true
   },
   "outputs": [],
   "source": []
  },
  {
   "cell_type": "markdown",
   "metadata": {},
   "source": [
    "### String Interpolation / f-Strings\n",
    "\n",
    "Python 3.6 let you format strings by embedding Python expressions inside string constants.\n",
    "\n",
    "***Type-It-Yourself:***\n",
    "```python\n",
    "x = 'World'\n",
    "y = f'Hello {x}'\n",
    "print(y)\n",
    "```"
   ]
  },
  {
   "cell_type": "code",
   "execution_count": null,
   "metadata": {},
   "outputs": [],
   "source": []
  },
  {
   "cell_type": "markdown",
   "metadata": {},
   "source": [
    "## 3. Others"
   ]
  },
  {
   "cell_type": "markdown",
   "metadata": {},
   "source": [
    "### Accepting User Inputs\n",
    "\n",
    "**input( )** accepts input and stores it as a string.\n",
    "\n",
    "***Type-It-Yourself:***\n",
    "```python\n",
    "a = input(\"Type something: \\t\")\n",
    "print(a, type(a))\n",
    "```"
   ]
  },
  {
   "cell_type": "code",
   "execution_count": null,
   "metadata": {},
   "outputs": [],
   "source": []
  }
 ],
 "metadata": {
  "kernelspec": {
   "display_name": "Python 3",
   "language": "python",
   "name": "python3"
  },
  "language_info": {
   "codemirror_mode": {
    "name": "ipython",
    "version": 3
   },
   "file_extension": ".py",
   "mimetype": "text/x-python",
   "name": "python",
   "nbconvert_exporter": "python",
   "pygments_lexer": "ipython3",
   "version": "3.7.3"
  }
 },
 "nbformat": 4,
 "nbformat_minor": 1
}

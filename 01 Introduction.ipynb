{
 "cells": [
  {
   "cell_type": "markdown",
   "metadata": {},
   "source": [
    "# Introduction to Python\n",
    "\n",
    "#### Outlines\n",
    "* What is Python?\n",
    "* Get Started\n",
    "* Variables and Types\n",
    "* Basic Operators\n"
   ]
  },
  {
   "cell_type": "markdown",
   "metadata": {},
   "source": [
    "## What is Python?\n",
    "\n",
    "Python is a programming language\n",
    "* It's free and open source \n",
    "* It is simple with a very straightforward syntax\n",
    "* It is interpreted and portable\n",
    "    * Available on most platforms\n",
    "    * Run without compilation\n",
    "* It has huge user community, who contributes lots of libraries\n",
    "* It supports procedure-oriented programming as well as object-oriented programming.\n",
    "\n",
    "### Major Versions\n",
    "\n",
    "There are two major Python versions, Python 2.7 and Python 3.7. \n",
    "* Python 2 and 3 are quite different and may not be compatible \n",
    "* Python 2 will be End-Of-Life in 2020\n",
    "* This traiing material is based on version 3.7"
   ]
  },
  {
   "cell_type": "markdown",
   "metadata": {},
   "source": [
    "## 1. Get Started\n",
    "\n",
    "### Hello World\n",
    "\n",
    "Print a \"Hello World\" message to the console. \n",
    "* Function `print()` displays message to the console\n",
    "* Not that no <b>`;`</b> required at the end of the line.\n",
    "\n",
    "***Type-It-Yourself:***\n",
    "```python\n",
    "print('Hello World')\n",
    "```"
   ]
  },
  {
   "cell_type": "code",
   "execution_count": null,
   "metadata": {},
   "outputs": [],
   "source": []
  },
  {
   "cell_type": "markdown",
   "metadata": {},
   "source": [
    "### Comments\n",
    "\n",
    "Comments are any text to the right of the <b>`#`</b> symbol. It is useful notes for the reader of your program.\n",
    "\n",
    "***Type-It-Yourself:***\n",
    "```python\n",
    "# This is a comment\n",
    "print('Hell Ngee Ann')\n",
    "print('Hello World again!') # This is another comment\n",
    "```\n",
    "\n",
    "**Tips:**\n",
    "* Press `CTRL+/` to comment off current line\n",
    "* Select multiple lines, and press `CTRL+/` to comment off selected lines"
   ]
  },
  {
   "cell_type": "code",
   "execution_count": null,
   "metadata": {},
   "outputs": [],
   "source": []
  },
  {
   "cell_type": "markdown",
   "metadata": {},
   "source": [
    "### Indentation\n",
    "\n",
    "**Whitespace** is particularly important in Python. \n",
    "* All statements which go together must have the <u>same indentation</u>. \n",
    "* Each such set of statements is called a <u>block</u>.\n",
    "\n",
    "Following code block gives an error because of wrong indentation.\n",
    "* Notice some lines have space(s) at the start of the line\n",
    "\n",
    "***Type-It-Yourself:***\n",
    "```python\n",
    "x = 5\n",
    " print('x = ', x)\n",
    "y = 10\n",
    "  print('y = ', y)\n",
    "print('x + y = ', x+y)\n",
    "```"
   ]
  },
  {
   "cell_type": "code",
   "execution_count": 3,
   "metadata": {},
   "outputs": [
    {
     "ename": "IndentationError",
     "evalue": "unexpected indent (<ipython-input-3-d1992c71b669>, line 2)",
     "output_type": "error",
     "traceback": [
      "\u001b[1;36m  File \u001b[1;32m\"<ipython-input-3-d1992c71b669>\"\u001b[1;36m, line \u001b[1;32m2\u001b[0m\n\u001b[1;33m    print('x = ', x)\u001b[0m\n\u001b[1;37m    ^\u001b[0m\n\u001b[1;31mIndentationError\u001b[0m\u001b[1;31m:\u001b[0m unexpected indent\n"
     ]
    }
   ],
   "source": [
    "x = 5\n",
    " print('x = ', x)\n",
    "y = 10\n",
    "  print('y = ', y)\n",
    "print('x + y = ', x+y)"
   ]
  },
  {
   "cell_type": "markdown",
   "metadata": {},
   "source": [
    "### Single Quotes, Double Quotes and Triple Quotes\n",
    "\n",
    "Strings canb e specified using single quotes, double quotes and tripple quotes.\n",
    "* There is not much difference in using single quotes and double quotes\n",
    "    * 'Hello World'\n",
    "    * \"How are you?\"\n",
    "* You can use single quotes or double quotes depending on situations\n",
    "    * \"What's your name?\"\n",
    "    * 'Remember this word \"Integrity\"'\n",
    "* Multi-line strings can be defined in triple quotes - (\"\"\" or '''). \n",
    "\n",
    "***Type-It-Yourself:***\n",
    "```python\n",
    "a = 'Hello World'\n",
    "b = \"What's your name?\"\n",
    "c = '''This is a multi-line string.\n",
    "\"What's your name?,\" I asked.\n",
    "He said \"Bond, James Bond.\"'''\n",
    "print(a)\n",
    "print(b)\n",
    "print(c)\n",
    "```"
   ]
  },
  {
   "cell_type": "code",
   "execution_count": null,
   "metadata": {},
   "outputs": [],
   "source": []
  },
  {
   "cell_type": "markdown",
   "metadata": {},
   "source": [
    "## 2. Variables and Types\n",
    "\n",
    "In Python, you do not need to declare variables before using them.\n",
    "\n",
    "Python is **dynamically typed** language. \n",
    "* You dont need to declare type of a variable\n",
    "\n",
    "Python is completely **object-oriented. \n",
    "* Every variable in Python is an object\n",
    "\n",
    "***Type-It-Yourself:***\n",
    "```python\n",
    "x = 2\n",
    "y = 'two'\n",
    "print(x, 'is', y)\n",
    "```\n"
   ]
  },
  {
   "cell_type": "code",
   "execution_count": null,
   "metadata": {},
   "outputs": [],
   "source": []
  },
  {
   "cell_type": "markdown",
   "metadata": {},
   "source": [
    "### ID of an Object\n",
    "\n",
    "Each object has a unique id. You can check the id of an object, e.g. a variable, using `id()` function.\n",
    "\n",
    "***Type-It-Yourself:***\n",
    "```python\n",
    "x = 2\n",
    "print('ID of x:', id(x))\n",
    "```"
   ]
  },
  {
   "cell_type": "code",
   "execution_count": null,
   "metadata": {},
   "outputs": [],
   "source": []
  },
  {
   "cell_type": "markdown",
   "metadata": {},
   "source": [
    "### Variable Assignment\n",
    "\n",
    "Multiple variables can be assigned with the same value.\n",
    "\n",
    "***Type-It-Yourself:***\n",
    "```python\n",
    "x = y = 1\n",
    "print(x,y)\n",
    "```"
   ]
  },
  {
   "cell_type": "code",
   "execution_count": null,
   "metadata": {},
   "outputs": [],
   "source": []
  },
  {
   "cell_type": "markdown",
   "metadata": {},
   "source": [
    "Assignments can be done on multiple variables \"simultaneously\".\n",
    "\n",
    "***Type-It-Yourself:***\n",
    "```python\n",
    "x, y, z = 'Result:', 3, 4\n",
    "print(x, y, z)\n",
    "```"
   ]
  },
  {
   "cell_type": "code",
   "execution_count": null,
   "metadata": {},
   "outputs": [],
   "source": []
  },
  {
   "cell_type": "markdown",
   "metadata": {},
   "source": [
    "### Type - Numbers\n",
    "\n",
    "Python supports two types of numbers - `integers` and `floating point numbers`.\n",
    "\n",
    "You can use `type()` function to check the type of a varialbe.\n",
    "\n",
    "***Type-It-Yourself:***\n",
    "```python\n",
    "x = 7\n",
    "print(x, type(x))\n",
    "y = 3.14\n",
    "print(y, type(y))\n",
    "```"
   ]
  },
  {
   "cell_type": "code",
   "execution_count": null,
   "metadata": {},
   "outputs": [],
   "source": []
  },
  {
   "cell_type": "markdown",
   "metadata": {},
   "source": [
    "### Type - String\n",
    "\n",
    "Strings are defined either with a single quote, a double quotes or a triple quotes.\n",
    "\n",
    "***Type-It-Yourself:***\n",
    "```python\n",
    "x = 'Hello world'\n",
    "print(type(x))\n",
    "```"
   ]
  },
  {
   "cell_type": "code",
   "execution_count": null,
   "metadata": {},
   "outputs": [],
   "source": []
  },
  {
   "cell_type": "markdown",
   "metadata": {},
   "source": [
    "### Type - Boolean\n",
    "\n",
    "Boolean type can contains `True` or `False` value.\n",
    "\n",
    "***Type-It-Yourself:***\n",
    "```python\n",
    "a = True\n",
    "b = False\n",
    "print(a, b, type(a), type(b))\n",
    "```"
   ]
  },
  {
   "cell_type": "code",
   "execution_count": null,
   "metadata": {},
   "outputs": [],
   "source": []
  },
  {
   "cell_type": "markdown",
   "metadata": {},
   "source": [
    "#### Boolean Evaluations\n",
    "\n",
    "In python, following primitive values are evaluated as `False`.\n",
    "* Zero\n",
    "* Empty string\n",
    "* `None`\n",
    "* Empty Collections, e.g. list\n",
    "\n",
    "***Type-It-Yourself:***\n",
    "```python\n",
    "# Non-zero values are evaluated to True\n",
    "print('bool(2) ->', bool(2))\n",
    "print('bool(-100) ->', bool(-100))\n",
    "print('bool(0.01) ->', bool(0.01))\n",
    "print('bool(0.0) ->', bool(0.0))\n",
    "\n",
    "# Non-Empty strings are evaluated to True\n",
    "print('bool(\"Hi\") ->', bool(\"Hi\"))\n",
    "print('bool(\"\") ->', bool(\"\"))\n",
    "print('bool(\" \") ->', bool(\" \"))\n",
    "\n",
    "# None is evaluated as False\n",
    "print('bool(None) ->', bool(None))\n",
    "\n",
    "# Empty collection are evaluated as False\n",
    "print('bool([]) ->', bool([]))\n",
    "```"
   ]
  },
  {
   "cell_type": "code",
   "execution_count": null,
   "metadata": {},
   "outputs": [],
   "source": []
  },
  {
   "cell_type": "markdown",
   "metadata": {},
   "source": [
    "### Type Conversion\n",
    "\n",
    "Each type in Python has a function to convert a variable to its type.\n",
    "* int() convers a value to integer type\n",
    "* str() convers a value to string type\n",
    "* float() converts a value to float type\n",
    "* etc\n",
    "\n",
    "***Type-It-Yourself:***\n",
    "```python\n",
    "x = '3.1415'\n",
    "y = float(x)\n",
    "print(type(x), type(y))\n",
    "```"
   ]
  },
  {
   "cell_type": "code",
   "execution_count": null,
   "metadata": {},
   "outputs": [],
   "source": []
  },
  {
   "cell_type": "markdown",
   "metadata": {},
   "source": [
    "### Special Value - None\n",
    "\n",
    "Declaring variables as `null` is quite common in many programming languages.\n",
    "\n",
    "The equivalent of the `null` keyword in Python is `None`.\n",
    "\n",
    "***Type-It-Yourself:***\n",
    "```python\n",
    "x = None\n",
    "print(x, type(x))\n",
    "```"
   ]
  },
  {
   "cell_type": "code",
   "execution_count": null,
   "metadata": {},
   "outputs": [],
   "source": []
  },
  {
   "cell_type": "markdown",
   "metadata": {},
   "source": [
    "### Check Type of an Object\n",
    "\n",
    "The `isinstance()` checks if an object is of a particular type. Multiple classes can also be checked at once.\n",
    "\n",
    "***Type-It-Yourself:***\n",
    "```python\n",
    "a = isinstance(1, int)\n",
    "b = isinstance(1.0, int)\n",
    "c = isinstance(1.0, (int,float))\n",
    "print(a, b, c)\n",
    "```"
   ]
  },
  {
   "cell_type": "code",
   "execution_count": null,
   "metadata": {},
   "outputs": [],
   "source": []
  },
  {
   "cell_type": "markdown",
   "metadata": {},
   "source": [
    "## 3. Basic Operators\n",
    "\n",
    "### Arithmetic Operators\n",
    "\n",
    "The addition, subtraction, multiplication, and division operators can be used with numbers\n",
    "* Addition `+`\n",
    "* Subtraction `-`\n",
    "* Division `/`\n",
    "* Multiplication `*`\n",
    "\n",
    "***Type-It-Yourself:***\n",
    "```python\n",
    "x = 1+ 2 * 3 / 4\n",
    "print(x, type(x))\n",
    "```"
   ]
  },
  {
   "cell_type": "code",
   "execution_count": null,
   "metadata": {},
   "outputs": [],
   "source": []
  },
  {
   "cell_type": "markdown",
   "metadata": {},
   "source": [
    "### Arithmetic Operator Shortcuts\n",
    "\n",
    "The `+=` adds another value with the variable's value and assigns the new value to the variable.\n",
    "E.g. `x += 10`\n",
    "\n",
    "The `-=`, `*=`, `/=` perform the same function for subtraction, multiplication and division.\n",
    "\n",
    "***Type-It-Yourself:***\n",
    "```python\n",
    "x = 5\n",
    "x += 10\n",
    "print(x)\n",
    "```"
   ]
  },
  {
   "cell_type": "code",
   "execution_count": null,
   "metadata": {},
   "outputs": [],
   "source": []
  },
  {
   "cell_type": "markdown",
   "metadata": {},
   "source": [
    "### Modulo Operator (%)\n",
    "\n",
    "Modulo operator (%) returns the integer remainder of the division. \n",
    "* dividend % divisor = remainder\n",
    "\n",
    "***Type-It-Yourself:***\n",
    "```python\n",
    "x = 10 % 8\n",
    "y = 8 % 10\n",
    "print(x, y)\n",
    "```"
   ]
  },
  {
   "cell_type": "code",
   "execution_count": null,
   "metadata": {},
   "outputs": [],
   "source": []
  },
  {
   "cell_type": "markdown",
   "metadata": {},
   "source": [
    "### To the Power of (**)\n",
    "\n",
    "Using two multiplication symbols makes a power relationship.\n",
    "\n",
    "***Type-It-Yourself:***\n",
    "```python\n",
    "squared = 7 ** 2\n",
    "cubed = 2 ** 3\n",
    "print(squared)\n",
    "print(cubed)\n",
    "```"
   ]
  },
  {
   "cell_type": "code",
   "execution_count": null,
   "metadata": {},
   "outputs": [],
   "source": []
  },
  {
   "cell_type": "markdown",
   "metadata": {},
   "source": [
    "### Rouding\n",
    "\n",
    "The `round()` function rounds the input value to a specified number of places or to the nearest integer.\n",
    "\n",
    "***Type-It-Yourself:***\n",
    "```python\n",
    "a = round(5.6231)\n",
    "b = round(4.55892, 2)\n",
    "print(a, b)\n",
    "```"
   ]
  },
  {
   "cell_type": "code",
   "execution_count": null,
   "metadata": {},
   "outputs": [],
   "source": []
  },
  {
   "cell_type": "markdown",
   "metadata": {},
   "source": [
    "### Using Operators with Strings\n",
    "\n",
    "Strings can be concatenated using `+`.\n",
    "\n",
    "***Type-It-Yourself:***\n",
    "```python\n",
    "hello = \"hello\" + \" \" + \"world\"\n",
    "print(hello)\n",
    "```"
   ]
  },
  {
   "cell_type": "code",
   "execution_count": null,
   "metadata": {},
   "outputs": [],
   "source": []
  },
  {
   "cell_type": "markdown",
   "metadata": {},
   "source": [
    "A string can be repeated multiple times using `*` operator.\n",
    "\n",
    "***Type-It-Yourself:***\n",
    "```python\n",
    "hi5 = \"hi \" * 5\n",
    "print(hi5)\n",
    "```"
   ]
  }
 ],
 "metadata": {
  "kernelspec": {
   "display_name": "Python 3",
   "language": "python",
   "name": "python3"
  },
  "language_info": {
   "codemirror_mode": {
    "name": "ipython",
    "version": 3
   },
   "file_extension": ".py",
   "mimetype": "text/x-python",
   "name": "python",
   "nbconvert_exporter": "python",
   "pygments_lexer": "ipython3",
   "version": "3.7.3"
  }
 },
 "nbformat": 4,
 "nbformat_minor": 1
}

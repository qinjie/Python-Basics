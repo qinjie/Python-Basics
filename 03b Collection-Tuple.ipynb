{
 "cells": [
  {
   "cell_type": "markdown",
   "metadata": {},
   "source": [
    "# Tuples\n",
    "\n",
    "A Tuple is a collection of Python objects which is **immutable**, i.e. not modifiable after creation.\n"
   ]
  },
  {
   "cell_type": "markdown",
   "metadata": {},
   "source": [
    "## 1. How to create a tuple?\n",
    "\n",
    "Tuple is created with listed of items surrounded by parentheses **\"( )\"**, and seperated by comma **\",\"**.\n",
    "\n",
    "* To create an empty tuple, simple use **()**\n",
    "* To create a single-item tuple, need to add **common \",\"** behind the element. E.g. `tup = (3,)`"
   ]
  },
  {
   "cell_type": "code",
   "execution_count": null,
   "metadata": {},
   "outputs": [],
   "source": [
    "tuple0 = (1, 2, 3, 4, 5, 6)\n",
    "print(type(tuple0))\n",
    "print(tuple0)"
   ]
  },
  {
   "cell_type": "markdown",
   "metadata": {},
   "source": [
    "### Parentheses is Optional\n",
    "\n",
    "In fact, parentheses is optional unless it is to create an empty tuple. "
   ]
  },
  {
   "cell_type": "code",
   "execution_count": null,
   "metadata": {},
   "outputs": [],
   "source": [
    "tuple1 = 1, 2, 3\n",
    "print(tuple1)\n",
    "print(type(tuple1))"
   ]
  },
  {
   "cell_type": "markdown",
   "metadata": {},
   "source": [
    "### Using Constructor\n",
    "\n",
    "Tuple can also be created using its contructor function, which takes in a list argument.\n",
    "* when string is passed in as argument, it turns string into collection of characters."
   ]
  },
  {
   "cell_type": "code",
   "execution_count": null,
   "metadata": {},
   "outputs": [],
   "source": [
    "tuple2 = tuple([1,2,3])\n",
    "print(tuple2)\n",
    "\n",
    "tuple2 = tuple('Good day!')\n",
    "print(tuple2)"
   ]
  },
  {
   "cell_type": "markdown",
   "metadata": {},
   "source": [
    "### Mixed Data Type\n",
    "\n",
    "Python collections allows mix data types in the same collection. We can also create tuple with items of different data type, although this is not commonly used."
   ]
  },
  {
   "cell_type": "code",
   "execution_count": null,
   "metadata": {},
   "outputs": [],
   "source": [
    "tuple3 = ('apple', 3.0, 'banana', 4)\n",
    "print(tuple3)"
   ]
  },
  {
   "cell_type": "markdown",
   "metadata": {},
   "source": [
    "### Nested Tuples\n",
    "\n",
    "Tuple can contain other tuples as its elements."
   ]
  },
  {
   "cell_type": "code",
   "execution_count": null,
   "metadata": {},
   "outputs": [],
   "source": [
    "nested = (0, 1, \n",
    "          (2, 3, 4), \n",
    "          (5, 6))\n",
    "print(nested)\n",
    "# Tuple only has 4 elements\n",
    "print(len(nested))"
   ]
  },
  {
   "cell_type": "markdown",
   "metadata": {},
   "source": [
    "# 2. How to access an item? Indexing\n",
    "\n",
    "Items in collection can be accessed by their indexes. Python uses zero-based indexing, i.e. index starts from 0."
   ]
  },
  {
   "cell_type": "code",
   "execution_count": null,
   "metadata": {},
   "outputs": [],
   "source": [
    "fruits = ('apple', 'banana', 'cherry', 'durian')\n",
    "print(fruits[1])\n",
    "print(fruits[4])"
   ]
  },
  {
   "cell_type": "markdown",
   "metadata": {},
   "source": [
    "### Negative Indexing\n",
    "\n",
    "Indexing can also be done in reverse order. That is the last element has an index of -1, and second last element has index of -2.\n",
    "\n",
    "<img src=\"./images/list-indexing.png\" alt=\"Set Venn Diagram\" style=\"width: 500px;\"/>"
   ]
  },
  {
   "cell_type": "code",
   "execution_count": null,
   "metadata": {},
   "outputs": [],
   "source": [
    "print(fruits)\n",
    "# Get last item\n",
    "print(fruits[-1])\n",
    "# Get last two item\n",
    "print(fruits[-2])"
   ]
  },
  {
   "cell_type": "markdown",
   "metadata": {},
   "source": [
    "### Multi-level Indexing\n",
    "\n",
    "For nested list, we can access items by multi-level indexing. Each level of the index always starts from 0.\n"
   ]
  },
  {
   "cell_type": "code",
   "execution_count": null,
   "metadata": {},
   "outputs": [],
   "source": [
    "print(nested)\n",
    "# First elelment in first list\n",
    "print(nested[2][2])\n",
    "# Second element in 2nd \n",
    "print(nested[3][0])"
   ]
  },
  {
   "cell_type": "code",
   "execution_count": null,
   "metadata": {},
   "outputs": [],
   "source": [
    "t = (1,)\n",
    "type(t)"
   ]
  },
  {
   "cell_type": "markdown",
   "metadata": {},
   "source": [
    "## 3. How to access subset of items? Slicing\n",
    "\n",
    "**Indexing** was only limited to accessing a single element.\n",
    "**Slicing** on the other hand is accessing a sequence of data inside the list. \n",
    "\n",
    "**Slicing** is done by defining the index values of the `first element` and the `last element` from the parent list that is required in the sliced list. \n",
    "\n",
    "```\n",
    "sub = num[a : b]\n",
    "sub = num[a : ]\n",
    "sub = num[: b]\n",
    "sub = num[:]\n",
    "```\n",
    " \n",
    "* if both `a` and `b` are specified, `a` is the first index, `b` is the **last index + 1**.\n",
    "* if `b` is omitted, it will slice till last element.\n",
    "* if `a` is omitted, it will starts from first element.\n",
    "* if neither `a` or `b` is specified, it is effectively copy the whole list\n",
    "\n",
    "**Note: the upper bound index is NOT inclusive!**"
   ]
  },
  {
   "cell_type": "code",
   "execution_count": null,
   "metadata": {},
   "outputs": [],
   "source": [
    "num = tuple(range(10))\n",
    "\n",
    "# Get item with index 2 to 4\n",
    "print(num[2:5])\n",
    "\n",
    "# Get first 5 items\n",
    "print(num[:5])\n",
    "\n",
    "# Get from item with index = 5 onwards\n",
    "print(num[5:])"
   ]
  },
  {
   "cell_type": "markdown",
   "metadata": {},
   "source": [
    "### Slice with Negative Index\n",
    "\n",
    "Remember list items can be accessed using `negative index`. Same technique can be applied for slicing too. \n",
    "\n",
    "* Last item has index of -1\n",
    "\n",
    "#### Question: \n",
    "* How to get last 3 items from a list?\n",
    "* How to ignore last 3 items from a list?\n",
    "* How to strip first and last items from a list?\n",
    "\n",
    "```\n",
    "num = (0,1,2,3,4,5,6,7,8,9)\n",
    "```"
   ]
  },
  {
   "cell_type": "code",
   "execution_count": null,
   "metadata": {},
   "outputs": [],
   "source": [
    "num = (0,1,2,3,4,5,6,7,8,9)\n",
    "print(num[-3:])\n",
    "print(num[:-3])\n",
    "print(num[1:-1])"
   ]
  },
  {
   "cell_type": "markdown",
   "metadata": {},
   "source": [
    "## 4. Working with Tuple"
   ]
  },
  {
   "cell_type": "markdown",
   "metadata": {},
   "source": [
    "### Length\n",
    "\n",
    "To find the length of the list or the number of elements in a list, **len( )** is used."
   ]
  },
  {
   "cell_type": "code",
   "execution_count": null,
   "metadata": {},
   "outputs": [],
   "source": [
    "len(num)"
   ]
  },
  {
   "cell_type": "markdown",
   "metadata": {},
   "source": [
    "### Min, Max and Sum\n",
    "\n",
    "If the list consists of all integer elements then **min( )**, **max( )** and **sum()** gives the minimum, maximum and sum values in the list."
   ]
  },
  {
   "cell_type": "code",
   "execution_count": null,
   "metadata": {},
   "outputs": [],
   "source": [
    "num = tuple(range(10))\n",
    "min_val = min(num)\n",
    "max_val = max(num)\n",
    "sum_val = sum(num)\n",
    "print('min = {0}, max = {1}, sum = {2}'.format(min_val, max_val, sum_val))"
   ]
  },
  {
   "cell_type": "code",
   "execution_count": null,
   "metadata": {},
   "outputs": [],
   "source": [
    "num = tuple(range(10))\n",
    "tuple(reversed(num))"
   ]
  },
  {
   "cell_type": "markdown",
   "metadata": {},
   "source": [
    "If elements are string type, max( ) and min( ) is still applicable. max( ) would return a string element whose ASCII value is the highest and the lowest when min( ) is used. Note that only the first index of each element is considered each time and if they value is the same then second index considered so on and so forth.\n"
   ]
  },
  {
   "cell_type": "code",
   "execution_count": null,
   "metadata": {},
   "outputs": [],
   "source": [
    "poly = ('np','sp','tp','rp','nyp')\n",
    "print(min(poly))\n",
    "print(max(poly))"
   ]
  },
  {
   "cell_type": "markdown",
   "metadata": {},
   "source": [
    "### any() and all()\n",
    "\n",
    "**any()** function returns True if any item in tuple (collection) is evaluated True.\n",
    "\n",
    "**all()** function returns True if all items in tuple (collection) is evaluated True.\n",
    "\n",
    "Python evaluates following values as **False**\n",
    "* False, None, numeric zero of all types\n",
    "* Empty strings and containers (including strings, tuples, lists, dictionaries, sets and frozensets)\n"
   ]
  },
  {
   "cell_type": "code",
   "execution_count": null,
   "metadata": {},
   "outputs": [],
   "source": [
    "print(num)\n",
    "print(any(num))\n",
    "print(all(num))"
   ]
  },
  {
   "cell_type": "code",
   "execution_count": null,
   "metadata": {},
   "outputs": [],
   "source": [
    "t1 = (3.5, '')\n",
    "print(any(t1), all(t1))\n",
    "t2 = (0, 'abc')\n",
    "print(any(t2), all(t2))"
   ]
  },
  {
   "cell_type": "markdown",
   "metadata": {},
   "source": [
    "### Reversing\n",
    "\n",
    "Tuple is immutable. Thus **reverse** operation can modify tuple itself. \n",
    "\n",
    "**reversed()** function returns a reversed object which can be converted to be a tuple or list. "
   ]
  },
  {
   "cell_type": "code",
   "execution_count": null,
   "metadata": {},
   "outputs": [],
   "source": [
    "print(poly)\n",
    "rev = reversed(poly)\n",
    "print(tuple(rev))"
   ]
  },
  {
   "cell_type": "markdown",
   "metadata": {},
   "source": [
    "### Sorting\n",
    "\n",
    "Similarly, **sort** operation cannot be applied to tuple itself. \n",
    "\n",
    "**sorted()** function to arrange the elements in **ascending** order."
   ]
  },
  {
   "cell_type": "code",
   "execution_count": null,
   "metadata": {},
   "outputs": [],
   "source": [
    "st = sorted(poly)\n",
    "print(poly)\n",
    "print(st)"
   ]
  },
  {
   "cell_type": "markdown",
   "metadata": {},
   "source": [
    "For **descending** order, specify the named argument `reverse = True`. \n",
    "* By default the reverse condition will be `False` for reverse. Hence changing it to True would arrange the elements in descending order."
   ]
  },
  {
   "cell_type": "code",
   "execution_count": null,
   "metadata": {},
   "outputs": [],
   "source": [
    "st = sorted(poly, reverse=True)\n",
    "print(poly)\n",
    "print(st)"
   ]
  },
  {
   "cell_type": "markdown",
   "metadata": {},
   "source": [
    "### Sorting with Key Function \n",
    "\n",
    "The **sort()** function has another named argument **key**, which allows u to specify a callable function. The sorting will be done based on returned value from this callable function. \n",
    "\n",
    "For example, **len()** function returns length of a string. \n",
    "\n",
    "To sort based on string length, `key = len` can be specified as shown."
   ]
  },
  {
   "cell_type": "code",
   "execution_count": null,
   "metadata": {},
   "outputs": [],
   "source": [
    "names = ('duck', 'chicken', 'goose')\n",
    "st1 = sorted(names, key=len)\n",
    "print(st1)\n",
    "st2 = sorted(names, key=len, reverse=True)\n",
    "print(st2)"
   ]
  },
  {
   "cell_type": "markdown",
   "metadata": {},
   "source": [
    "### Operator + and *\n",
    "\n",
    "#### Operator +\n",
    "\n",
    "Two tuples can also be join together simply using `+` operator."
   ]
  },
  {
   "cell_type": "code",
   "execution_count": null,
   "metadata": {},
   "outputs": [],
   "source": [
    "s = \"hello world.\"\n",
    "t = s\n",
    "print(t == s)\n",
    "print(t is s)\n",
    "s = s + \"abc\"\n",
    "print(t == s)\n",
    "print(t is s)\n"
   ]
  },
  {
   "cell_type": "code",
   "execution_count": null,
   "metadata": {},
   "outputs": [],
   "source": [
    "t1 = (1,2,3,4,5,6)\n",
    "t2 = (7,8,9)\n",
    "t3 = t1 + t2\n",
    "print(t3)"
   ]
  },
  {
   "cell_type": "markdown",
   "metadata": {},
   "source": [
    "#### Operator *\n",
    "\n",
    "Similar to String, we can repeat a tuple multiple times with * operator. "
   ]
  },
  {
   "cell_type": "code",
   "execution_count": null,
   "metadata": {},
   "outputs": [],
   "source": [
    "t1 = (1,2,3,4,5,6)\n",
    "t1 * 2"
   ]
  },
  {
   "cell_type": "markdown",
   "metadata": {},
   "source": [
    "## 5. Membership and Searching\n",
    "\n",
    "You might need to check if a particular item is in a list.\n",
    "\n",
    "Instead of using `for` loop to iterate over the list and use the if condition, Python provides a simple **`in`** statement to check membership of an item. "
   ]
  },
  {
   "cell_type": "code",
   "execution_count": null,
   "metadata": {},
   "outputs": [],
   "source": [
    "names = ('duck', 'chicken', 'goose')\n",
    "found1 = 'duck' in names\n",
    "found2 = 'dog' in names\n",
    "print(found1)\n",
    "print(found2)"
   ]
  },
  {
   "cell_type": "markdown",
   "metadata": {},
   "source": [
    "**count( )** is used to count the occurence of a particular item in a list. "
   ]
  },
  {
   "cell_type": "code",
   "execution_count": null,
   "metadata": {},
   "outputs": [],
   "source": [
    "names = ('duck', 'chicken', 'goose')\n",
    "names2 = names + names\n",
    "print(names2)\n",
    "names2.count('duck')"
   ]
  },
  {
   "cell_type": "markdown",
   "metadata": {},
   "source": [
    "**index( )** is used to find the index value of a particular item. \n",
    "* Note that if there are multiple items of the same value, the first index value of that item is returned.\n",
    "* You can add 2nd argument x to start searching from index x onwards."
   ]
  },
  {
   "cell_type": "code",
   "execution_count": null,
   "metadata": {},
   "outputs": [],
   "source": [
    "idx = names2.index('goose')\n",
    "idx2 = names2.index('goose', 4)\n",
    "print('Gooses at index {} and {}'.format(idx, idx2))"
   ]
  },
  {
   "cell_type": "markdown",
   "metadata": {},
   "source": [
    "## 6. Iterating through Tuple"
   ]
  },
  {
   "cell_type": "markdown",
   "metadata": {},
   "source": [
    "To iterate through a tuple (collection), you can use **for** loop.\n",
    "\n",
    "If you need the index value, you can use **enumerate()** function. "
   ]
  },
  {
   "cell_type": "code",
   "execution_count": null,
   "metadata": {},
   "outputs": [],
   "source": [
    "names = ('duck', 'chicken', 'goose')\n",
    "for name in names:\n",
    "    print(name)"
   ]
  },
  {
   "cell_type": "code",
   "execution_count": null,
   "metadata": {},
   "outputs": [],
   "source": [
    "for idx, name in enumerate(names):\n",
    "    print(idx, name)"
   ]
  },
  {
   "cell_type": "markdown",
   "metadata": {},
   "source": [
    "## 7. Tuple Unpacking\n",
    "\n"
   ]
  },
  {
   "cell_type": "markdown",
   "metadata": {},
   "source": [
    "### Function with Multiple Returning Values\n",
    "\n",
    "In most programming languages, function/method can only return a single value. It is the same practice in Python. \n",
    "\n",
    "But in Python, you can return a tuple which can easily pack multiple values together.\n"
   ]
  },
  {
   "cell_type": "code",
   "execution_count": null,
   "metadata": {},
   "outputs": [],
   "source": [
    "def minmax(input_list):\n",
    "    min_val = min(input_list)\n",
    "    max_val = max(input_list)\n",
    "    return min_val, max_val\n",
    "\n",
    "input = (1, 5, 2, 8, 7, 9, 3)\n",
    "result = minmax(input)\n",
    "print(result)\n",
    "print(type(result))"
   ]
  },
  {
   "cell_type": "markdown",
   "metadata": {},
   "source": [
    "### Tuple Unpacking\n",
    "\n",
    "Tuple can be easily unpacked into multiple values.\n",
    "* During unpacking, number of variable needs to match number of items in tuple \n",
    "* It is common to use underscore **_** for items to be ignored"
   ]
  },
  {
   "cell_type": "code",
   "execution_count": null,
   "metadata": {},
   "outputs": [],
   "source": [
    "input = (1, 5, 2, 8, 7, 9, 3)\n",
    "mi, ma =  minmax(input)\n",
    "print(\"min value = {}, max value = {}\".format(mi, ma))"
   ]
  },
  {
   "cell_type": "code",
   "execution_count": null,
   "metadata": {},
   "outputs": [],
   "source": [
    "x, y, z = 1, 2, 3\n",
    "print(x, y, z)\n",
    "\n",
    "## This will cause an exception\n",
    "a, _, c = ('a', 'b', 'c')"
   ]
  },
  {
   "cell_type": "code",
   "execution_count": null,
   "metadata": {},
   "outputs": [],
   "source": [
    "times = '9am to 5pm'.partition('to')\n",
    "print(times)\n",
    "start, _, end = times\n",
    "print(start, end)"
   ]
  },
  {
   "cell_type": "markdown",
   "metadata": {},
   "source": [
    "**Question:** \n",
    "* How to swap two value x and y in a single statement?"
   ]
  },
  {
   "cell_type": "code",
   "execution_count": null,
   "metadata": {},
   "outputs": [],
   "source": [
    "x = 10\n",
    "y = 20\n",
    "x, y = y, x\n",
    "print('x = {}, y = {}'.format(x, y))"
   ]
  },
  {
   "cell_type": "markdown",
   "metadata": {},
   "source": [
    "## Summary: Tuple vs. List\n",
    "\n",
    "### Difference between Tuple and List\n",
    "\n",
    "A tuple is **immutable** whereas a list is **mutable**.\n",
    "\n",
    "* You can't add elements to a tuple. Tuples have no append or extend method.\n",
    "* You can't remove elements from a tuple. Tuples have no remove or pop method.\n",
    "\n",
    "### When to use Tuple?\n",
    "\n",
    "* Tuples are used in function to return multiple values together.\n",
    "* Tuples are lighter-weight and are more memory efficient and often faster if used in appropriate places.\n",
    "* When using a tuple you protect against accidental modification when passing it between functions.\n",
    "* Tuples, being immutable, can be used as a key in a dictionary, which we’re about to learn about."
   ]
  }
 ],
 "metadata": {
  "kernelspec": {
   "display_name": "Python 3",
   "language": "python",
   "name": "python3"
  },
  "language_info": {
   "codemirror_mode": {
    "name": "ipython",
    "version": 3
   },
   "file_extension": ".py",
   "mimetype": "text/x-python",
   "name": "python",
   "nbconvert_exporter": "python",
   "pygments_lexer": "ipython3",
   "version": "3.7.3"
  }
 },
 "nbformat": 4,
 "nbformat_minor": 2
}

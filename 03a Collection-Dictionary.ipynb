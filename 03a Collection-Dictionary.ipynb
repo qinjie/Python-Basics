{
 "cells": [
  {
   "cell_type": "markdown",
   "metadata": {},
   "source": [
    "# Dictionaries\n",
    "\n",
    "Dictionaries are a common feature of modern languages (often known as maps, associative arrays, or hashmaps) which let you associate pairs of values together.\n",
    "\n",
    "In Python, dictionaries are defined in **dict** data type.\n",
    "* It stores keys and their corresponding values.\n",
    "* Keys must be **unique** and **immutable**.\n",
    "* It is **mutable**, i.e. you can add and remove items from a dictionary.\n",
    "* It is **unordered**, i.e. items in a dictionary are not ordered."
   ]
  },
  {
   "cell_type": "markdown",
   "metadata": {},
   "source": [
    "## 1. How to create a dictionary?\n",
    "\n",
    "Dictionary is created with listed of items surrounded by curly brackets **\"{ }\"**, and seperated by comma **\",\"**.\n",
    "\n",
    "* To create an empty dictionary, simple use **\"{}\"**\n",
    "* Key and value are separated by colon **\":\"**\n",
    "* Key needs to be immutable type, e.g. data type like scalar, string or tuple"
   ]
  },
  {
   "cell_type": "code",
   "execution_count": null,
   "metadata": {
    "slideshow": {
     "slide_type": ""
    }
   },
   "outputs": [],
   "source": [
    "# empty dictionary\n",
    "d0 = {}\n",
    "# dictionary with mixed data type\n",
    "d1 = {'name': 'John', 1: [2, 4, 3]}\n",
    "# dictionary with string key\n",
    "fruits = {'a':'Apple', 'b':'Banana', 'c':'Cherries', 'd':'Durian'}\n",
    "print(d1)\n",
    "print(fruits)"
   ]
  },
  {
   "cell_type": "markdown",
   "metadata": {},
   "source": [
    "### Using Constructor\n",
    "\n",
    "Dictionary can also be created using its contructor function, input argument can be \n",
    "* another dictionary\n",
    "* list of tuples"
   ]
  },
  {
   "cell_type": "code",
   "execution_count": null,
   "metadata": {},
   "outputs": [],
   "source": [
    "d1 = dict(fruits)\n",
    "print(d1)\n",
    "print('Same value = {}, Same variable = {}'.format(d1 == fruits, d1 is fruits))"
   ]
  },
  {
   "cell_type": "code",
   "execution_count": null,
   "metadata": {},
   "outputs": [],
   "source": [
    "lst = [('a','Apple'), ('b','Banana'), ('c','Cherries'), ('d','Durian')]\n",
    "d2 = dict(lst)\n",
    "print(d2)\n",
    "d2 == fruits"
   ]
  },
  {
   "cell_type": "code",
   "execution_count": null,
   "metadata": {},
   "outputs": [],
   "source": [
    "d0 = {'a': 1, 'b': 2}\n",
    "d1 = dict(d0)\n",
    "d1['a'] = 2\n",
    "print(d0)\n",
    "print(d1)\n",
    "print(d0 == d1)\n",
    "\n",
    "d0 = {'a': 1, 'b': 2}\n",
    "d1 = {'c': 1, 'b': 2}\n",
    "print(d0)\n",
    "print(d1)\n",
    "print(d0 == d1)"
   ]
  },
  {
   "cell_type": "markdown",
   "metadata": {},
   "source": [
    "### Copy a Dictionary\n",
    "\n",
    "We can also create dictionary by **copy()** function."
   ]
  },
  {
   "cell_type": "code",
   "execution_count": null,
   "metadata": {},
   "outputs": [],
   "source": [
    "d3 = fruits.copy()\n",
    "print(d3)"
   ]
  },
  {
   "cell_type": "markdown",
   "metadata": {},
   "source": [
    "#### Shallow Copy\n",
    "\n",
    "Note that it will be a **shallow copy**, i.e. it only copies first level of value, i.e. referenced objects will not be duplicated.\n",
    "\n",
    "Example: d4 is copied from d3, but list value pointed by key 'a' is not duplicated. When d3['a'] is updated, d4['a'] value will be updated too because they are pointng to the same list object."
   ]
  },
  {
   "cell_type": "code",
   "execution_count": null,
   "metadata": {},
   "outputs": [],
   "source": [
    "d3['a'] = ['Apple', 'Apricots', 'Avocado']\n",
    "print(d3)\n",
    "d4 = d3.copy()\n",
    "d3['a'].pop()\n",
    "print(d4)"
   ]
  },
  {
   "cell_type": "code",
   "execution_count": null,
   "metadata": {},
   "outputs": [],
   "source": [
    "d5 = fruits.copy()\n",
    "d5['a'] = ['Apple', 'Apricots', 'Avocado']\n",
    "d6 = d5.copy()\n",
    "d5['b'] = 'Banana2'\n",
    "print(d5)\n",
    "print(d6)"
   ]
  },
  {
   "cell_type": "code",
   "execution_count": null,
   "metadata": {},
   "outputs": [],
   "source": [
    "d5 = fruits.copy()\n",
    "d6 = d5\n",
    "d5['b'] = 'Banana2'\n",
    "print(d5)\n",
    "print(d6)"
   ]
  },
  {
   "cell_type": "markdown",
   "metadata": {},
   "source": [
    "### How to do deep copy?\n",
    "\n",
    "Use `deepcopy()` function"
   ]
  },
  {
   "cell_type": "code",
   "execution_count": null,
   "metadata": {},
   "outputs": [],
   "source": [
    "d3 = fruits.copy()\n",
    "d3['a'] = ['Apple', 'Apricots', 'Avocado']\n",
    "d4 = d3.deepcopy()\n",
    "d3['a'].pop()\n",
    "print(d4)\n"
   ]
  },
  {
   "cell_type": "markdown",
   "metadata": {},
   "source": [
    "# 2. How to access an item? by Key\n",
    "\n",
    "Items in dictionary can be accessed by their respective keys. \n",
    "* Key can be used either inside square brackets or with the **get()** method.\n",
    "* The difference while using get() is that it returns `None` instead of `KeyError` Exception, if the key is not found.\n",
    "* **get()** method can take in a default value argument, which will be returned if the key is not found."
   ]
  },
  {
   "cell_type": "code",
   "execution_count": null,
   "metadata": {},
   "outputs": [],
   "source": [
    "print(fruits)\n",
    "print(fruits['a'], fruits.get('a'), fruits.get('z'))\n",
    "print(fruits['z'])"
   ]
  },
  {
   "cell_type": "code",
   "execution_count": null,
   "metadata": {},
   "outputs": [],
   "source": [
    "fruits.get('z', 'Not Fruit Today')"
   ]
  },
  {
   "cell_type": "markdown",
   "metadata": {},
   "source": [
    "## 3. How to update or add elements in a dictionary?"
   ]
  },
  {
   "cell_type": "markdown",
   "metadata": {},
   "source": [
    "Dictionary is mutable. We can add new items or change the value of existing items using assignment operator.\n",
    "\n",
    "* If the key exists in the dictionary, existing value will be updated. \n",
    "* If the key doesn't exists in the dictioinary, new key:value pair is added to dictionary."
   ]
  },
  {
   "cell_type": "code",
   "execution_count": null,
   "metadata": {},
   "outputs": [],
   "source": [
    "mixed = dict(fruits)\n",
    "mixed['a'] = ['Apple', 'Apricots', 'Avocado']\n",
    "print(mixed)"
   ]
  },
  {
   "cell_type": "code",
   "execution_count": null,
   "metadata": {},
   "outputs": [],
   "source": [
    "fruits['f']='Fig'\n",
    "print(fruits)"
   ]
  },
  {
   "cell_type": "markdown",
   "metadata": {},
   "source": [
    "### Merge Dictionaries\n",
    "\n",
    "**update()** method is used to merge items from another dictionary.\n",
    "* Adds element(s) to the dictionary if the key is not in the dictionary.\n",
    "* If the key is in the dictionary, it updates the key with the new value."
   ]
  },
  {
   "cell_type": "code",
   "execution_count": null,
   "metadata": {},
   "outputs": [],
   "source": [
    "mixed = dict(fruits)\n",
    "print(mixed)\n",
    "fruits2 = {'d':'Dates', 'e':'Eldercherry', 'f':'Fig', 'g':'Grape'}\n",
    "mixed.update(fruits2)\n",
    "print(mixed)"
   ]
  },
  {
   "cell_type": "markdown",
   "metadata": {},
   "source": [
    "## 4. How to remove items from a dictionary?\n",
    "\n",
    "* **pop()** can be used to remove an item from dictionary. This method removes an item with the provided key and returns the value.\n",
    "* **clear()** function clear all items in a dictionary.\n",
    "* **popitem()** removes any arbitrary item."
   ]
  },
  {
   "cell_type": "code",
   "execution_count": null,
   "metadata": {},
   "outputs": [],
   "source": [
    "mixed = dict(fruits)\n",
    "val = mixed.pop('c')\n",
    "print(val)\n",
    "print(mixed)"
   ]
  },
  {
   "cell_type": "code",
   "execution_count": null,
   "metadata": {},
   "outputs": [],
   "source": [
    "mixed = dict(fruits)\n",
    "mixed.clear()\n",
    "print(mixed)"
   ]
  },
  {
   "cell_type": "markdown",
   "metadata": {},
   "source": [
    "## 4. Working with Dictionary"
   ]
  },
  {
   "cell_type": "markdown",
   "metadata": {},
   "source": [
    "### Length\n",
    "\n",
    "To find the length of the list or the number of elements in a list, **len( )** is used."
   ]
  },
  {
   "cell_type": "code",
   "execution_count": null,
   "metadata": {},
   "outputs": [],
   "source": [
    "len(fruits)"
   ]
  },
  {
   "cell_type": "markdown",
   "metadata": {},
   "source": [
    "### keys(), values(), items()\n",
    "\n",
    "* **keys()** return a new view of the dictionary's keys.\n",
    "* **values()** return a new view of the dictionary's values.\n",
    "* **items()** return a new view of the dictionary's items (key, value)."
   ]
  },
  {
   "cell_type": "code",
   "execution_count": null,
   "metadata": {},
   "outputs": [],
   "source": [
    "print(fruits.keys())\n",
    "print(fruits.values())\n",
    "print(fruits.items())"
   ]
  },
  {
   "cell_type": "markdown",
   "metadata": {},
   "source": [
    "## 5. Membership Test\n",
    "\n",
    "We can use **`in`** statement to check membership of a **key** in a dictionary."
   ]
  },
  {
   "cell_type": "code",
   "execution_count": null,
   "metadata": {},
   "outputs": [],
   "source": [
    "print('a' in fruits, 'z' in fruits)"
   ]
  },
  {
   "cell_type": "markdown",
   "metadata": {},
   "source": [
    "**Question**\n",
    "* How to test if a value is in a dictionary?"
   ]
  },
  {
   "cell_type": "code",
   "execution_count": null,
   "metadata": {},
   "outputs": [],
   "source": [
    "print(fruits)\n",
    "print('Apple' in fruits.values())\n",
    "\n",
    "('a', 'Apple') in fruits.items()"
   ]
  },
  {
   "cell_type": "code",
   "execution_count": null,
   "metadata": {},
   "outputs": [],
   "source": [
    "keys = list(fruits.keys())\n",
    "values = list(fruits.values())\n",
    "idx = values.index('Banana')\n",
    "print(keys[idx])"
   ]
  },
  {
   "cell_type": "markdown",
   "metadata": {},
   "source": [
    "## 6. Iterating through Dictionary"
   ]
  },
  {
   "cell_type": "markdown",
   "metadata": {},
   "source": [
    "To iterate through a dictionary, you can use **for** loop.\n",
    "by default, the iteration is done on **keys** of the dictionary."
   ]
  },
  {
   "cell_type": "code",
   "execution_count": null,
   "metadata": {},
   "outputs": [],
   "source": [
    "for k in fruits:\n",
    "    print(k, fruits[k])"
   ]
  },
  {
   "cell_type": "markdown",
   "metadata": {},
   "source": [
    "**Question**\n",
    "* How to iterate through values instead of keys?\n",
    "* How to iterate through keys and values at the same time?"
   ]
  },
  {
   "cell_type": "code",
   "execution_count": null,
   "metadata": {},
   "outputs": [],
   "source": [
    "for v in fruits.values():\n",
    "    print(v)"
   ]
  },
  {
   "cell_type": "code",
   "execution_count": null,
   "metadata": {},
   "outputs": [],
   "source": [
    "for k, v in fruits.items():\n",
    "    print(k, v)"
   ]
  },
  {
   "cell_type": "markdown",
   "metadata": {},
   "source": [
    "Similiar to list, we can also use single-line `for` loop to easily generate dictionary."
   ]
  },
  {
   "cell_type": "code",
   "execution_count": null,
   "metadata": {},
   "outputs": [],
   "source": [
    "lst = [x*2 for x in range(10)]\n",
    "print(lst)"
   ]
  },
  {
   "cell_type": "code",
   "execution_count": null,
   "metadata": {},
   "outputs": [],
   "source": [
    "square = {x: x*x for x in range(1,10)}\n",
    "print(square)"
   ]
  }
 ],
 "metadata": {
  "kernelspec": {
   "display_name": "Python 3",
   "language": "python",
   "name": "python3"
  },
  "language_info": {
   "codemirror_mode": {
    "name": "ipython",
    "version": 3
   },
   "file_extension": ".py",
   "mimetype": "text/x-python",
   "name": "python",
   "nbconvert_exporter": "python",
   "pygments_lexer": "ipython3",
   "version": "3.7.3"
  }
 },
 "nbformat": 4,
 "nbformat_minor": 2
}

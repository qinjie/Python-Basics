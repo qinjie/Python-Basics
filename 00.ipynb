{
 "cells": [
  {
   "cell_type": "markdown",
   "metadata": {},
   "source": [
    "<img src=\"attachment:image.png\" width=\"300\"/>\n",
    "\n",
    "# What is Python\n",
    "\n",
    "Reference: A Byte of Python https://python.swaroopch.com/\n",
    "\n",
    "Python is an easy to learn, powerful programming language. It has efficient high-level data structures and a simple but effective approach to object-oriented programming."
   ]
  },
  {
   "cell_type": "markdown",
   "metadata": {},
   "source": [
    "## Key Features\n",
    "\n",
    "#### Simple\n",
    "\n",
    "Python is a simple and minimalistic language. Reading a good Python program feels almost like reading English.\n",
    "\n",
    "#### Easy to Learn\n",
    "Python is a High-level Language with extraordinarily simple syntax which is extremely easy to get started with.\n",
    "\n",
    "#### Free and Open Source\n",
    "\n",
    "#### Portable\n",
    "Due to its open-source nature, Python has been ported to many platforms. Python programs can work on any of these platforms without requiring any changes.\n",
    "\n",
    "#### Interpreted\n",
    "Python code does not need compilation to binary before it runs. Python program runs directly from the source code. \n",
    "\n",
    "#### Object Oriented\n",
    "Python supports procedure-oriented programming as well as object-oriented programming. In <b> procedure-oriented </b> languages, the program is built around procedures or functions which are nothing but reusable pieces of programs. In <b> object-oriented </b> languages, the program is built around objects which combine data and functionality.\n",
    "\n",
    "#### Extensive Libraries\n",
    "The Python Standard Library is huge. There are also messa"
   ]
  },
  {
   "cell_type": "markdown",
   "metadata": {},
   "source": [
    "# Setup Development Environment\n",
    "\n",
    "## Install Python with Anaconda\n",
    "\n",
    "\n",
    "## PyCharm as IDE\n",
    "\n"
   ]
  },
  {
   "cell_type": "markdown",
   "metadata": {},
   "source": [
    "# Get Started\n",
    "\n",
    "## Hello World\n",
    "\n",
    "Print a \"Hello World\" message to the console. Not that no <b>;</b> required at the end of the line."
   ]
  },
  {
   "cell_type": "code",
   "execution_count": 1,
   "metadata": {},
   "outputs": [
    {
     "name": "stdout",
     "output_type": "stream",
     "text": [
      "Hello Boon Lee\n"
     ]
    }
   ],
   "source": [
    "print(\"Hello Boon Lee\")"
   ]
  },
  {
   "cell_type": "markdown",
   "metadata": {},
   "source": [
    "## Comments\n",
    "\n",
    "Comments are any text to the right of the <b>#</b> symbol. It is useful notes for the reader of your program.\n"
   ]
  },
  {
   "cell_type": "code",
   "execution_count": 12,
   "metadata": {},
   "outputs": [
    {
     "name": "stdout",
     "output_type": "stream",
     "text": [
      "Hell World\n",
      "Hello World again!\n"
     ]
    }
   ],
   "source": [
    "# This is a comment\n",
    "print(\"Hell Ngee Ann\")\n",
    "print(\"Hello World again!\")        # This is another comment"
   ]
  },
  {
   "cell_type": "markdown",
   "metadata": {},
   "source": [
    "## Single Quotes, Double Quotes and Triple Quotes\n",
    "\n",
    "String can be specified with single quotes such as 'Hello World'.\n",
    "\n",
    "Strings in double quotes work exactly the same way as strings in single quotes. An example is \"What's your name?\"\n",
    "\n",
    "Multi-line strings can be defined in triple quotes - (\"\"\" or '''). You can use single quotes and double quotes freely within the triple quotes.\n",
    "\n",
    "`\n",
    "'''This is a multi-line string. This is the first line.\n",
    "This is the second line.\n",
    "\"What's your name?,\" I asked.\n",
    "He said \"Bond, James Bond.\"\n",
    "'''\n",
    "`"
   ]
  },
  {
   "cell_type": "code",
   "execution_count": 13,
   "metadata": {},
   "outputs": [
    {
     "name": "stdout",
     "output_type": "stream",
     "text": [
      "Hello World\n",
      "What's your name?\n",
      "This is a multi-line string. This is the first line.\n",
      "This is the second line.\n",
      "\"What's your name?,\" I asked.\n",
      "He said \"Bond, James Bond.\"\n",
      "\n"
     ]
    }
   ],
   "source": [
    "a = 'Hello World'\n",
    "b = \"What's your name?\"\n",
    "c = '''This is a multi-line string. This is the first line.\n",
    "\"What's your name?,\" I asked.\n",
    "He said \"Bond, James Bond.\"\n",
    "'''\n",
    "\n",
    "print(a)\n",
    "print(b)\n",
    "print(c)"
   ]
  },
  {
   "cell_type": "markdown",
   "metadata": {},
   "source": [
    "## Indentation\n",
    "\n",
    "Whitespace is important in Python. All statements which go together must have the same indentation. Each such set of statements is called a block.\n",
    "\n",
    "Following code block gives an error because of wrong indentation.\n"
   ]
  },
  {
   "cell_type": "code",
   "execution_count": 17,
   "metadata": {},
   "outputs": [
    {
     "ename": "IndentationError",
     "evalue": "unexpected indent (<ipython-input-17-1db0f95b265b>, line 3)",
     "output_type": "error",
     "traceback": [
      "\u001b[1;36m  File \u001b[1;32m\"<ipython-input-17-1db0f95b265b>\"\u001b[1;36m, line \u001b[1;32m3\u001b[0m\n\u001b[1;33m    print('Value is', i)\u001b[0m\n\u001b[1;37m    ^\u001b[0m\n\u001b[1;31mIndentationError\u001b[0m\u001b[1;31m:\u001b[0m unexpected indent\n"
     ]
    }
   ],
   "source": [
    "i = 5\n",
    "# Error below! Notice a single space at the start of the line\n",
    " print('Value is', i)\n",
    "print('I repeat, the value is', i)\n"
   ]
  }
 ],
 "metadata": {
  "kernelspec": {
   "display_name": "Python 3",
   "language": "python",
   "name": "python3"
  },
  "language_info": {
   "codemirror_mode": {
    "name": "ipython",
    "version": 3
   },
   "file_extension": ".py",
   "mimetype": "text/x-python",
   "name": "python",
   "nbconvert_exporter": "python",
   "pygments_lexer": "ipython3",
   "version": "3.6.9"
  }
 },
 "nbformat": 4,
 "nbformat_minor": 1
}
